!pip install PyPDF2

from PyPDF2 import PdfReader
from google.colab import files
import io

# Prompt the user to enter the PDF file path
# pdf_path = input("Enter the path to your PDF file: ")
uploaded= files.upload()

# Get file name and content from uploaded dictionary
file_name = list(uploaded.keys())[0]
file_content = uploaded[file_name]

# Create a file-like object using io.BytesIO
pdf_file = io.BytesIO(file_content)

try:
    # Create a PdfReader object
    reader = PdfReader(pdf_file)

    # Extract text from all pages
    all_text = ""
    for page in reader.pages:
        all_text += page.extract_text()

    # Print the extracted text
    print("\nExtracted Text:\n")
    print(all_text)
except FileNotFoundError:
    print("Error: The file was not found. Please check the file path and try again.")
except Exception as e:
    print(f"An error occurred: {e}")
